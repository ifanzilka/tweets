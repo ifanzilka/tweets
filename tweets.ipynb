{
 "cells": [
  {
   "cell_type": "code",
   "execution_count": null,
   "metadata": {},
   "outputs": [],
   "source": [
    "from collections import namedtuple\n",
    "Sentiment = namedtuple('Sentiment', ['type','ordinal',])\n",
    "\n",
    "Approach = namedtuple('Approach',['binary','counts', 'tfidf','df_y']) ## Наши подходы\n",
    "\n",
    "Classifier = namedtuple('Classifier', ['model','params'])\n",
    "\n",
    "approaches = {\n",
    "    'tokenization': None,\n",
    "    'stemming': None,\n",
    "    'lemmatization': None,\n",
    "    's+m': None,\n",
    "    'l+m': None,\n",
    "}\n",
    "\n",
    "sentiments = {'negative': Sentiment('negative', -1), 'positive': Sentiment('positive', 1),'neutral': Sentiment('neutral', 0) }"
   ]
  },
  {
   "cell_type": "markdown",
   "metadata": {},
   "source": []
  },
  {
   "cell_type": "code",
   "execution_count": null,
   "metadata": {},
   "outputs": [],
   "source": []
  },
  {
   "cell_type": "code",
   "execution_count": null,
   "metadata": {},
   "outputs": [],
   "source": []
  },
  {
   "cell_type": "markdown",
   "metadata": {},
   "source": [
    "## Just Tokenizer"
   ]
  },
  {
   "cell_type": "markdown",
   "metadata": {},
   "source": []
  }
 ],
 "metadata": {
  "interpreter": {
   "hash": "8458c1d4dca891ee6f79b283872e65a54987172fe96dbe6efb976f3ba343495e"
  },
  "kernelspec": {
   "display_name": "Python 3.7.9 ('tweets': venv)",
   "language": "python",
   "name": "python3"
  },
  "language_info": {
   "name": "python",
   "version": "3.7.9"
  },
  "orig_nbformat": 4
 },
 "nbformat": 4,
 "nbformat_minor": 2
}
