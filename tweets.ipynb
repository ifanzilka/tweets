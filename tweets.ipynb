{
 "cells": [
  {
   "cell_type": "code",
   "execution_count": 1,
   "metadata": {},
   "outputs": [],
   "source": [
    "from collections import namedtuple\n",
    "Sentiment = namedtuple('Sentiment', ['type','ordinal',])\n",
    "\n",
    "Approach = namedtuple('Approach',['binary','counts', 'tfidf','df_y']) ## Наши подходы\n",
    "\n",
    "Classifier = namedtuple('Classifier', ['model','params'])\n",
    "\n",
    "approaches = {\n",
    "    'tokenization': None,\n",
    "    'stemming': None,\n",
    "    'lemmatization': None,\n",
    "    's+m': None,\n",
    "    'l+m': None,\n",
    "}\n",
    "\n",
    "sentiments = {'negative': Sentiment('negative', -1), 'positive': Sentiment('positive', 1),'neutral': Sentiment('neutral', 0) }"
   ]
  },
  {
   "cell_type": "markdown",
   "metadata": {},
   "source": []
  },
  {
   "cell_type": "code",
   "execution_count": null,
   "metadata": {},
   "outputs": [],
   "source": []
  },
  {
   "cell_type": "markdown",
   "metadata": {},
   "source": [
    "## Just Tokenizer"
   ]
  },
  {
   "cell_type": "code",
   "execution_count": 13,
   "metadata": {},
   "outputs": [],
   "source": [
    "import pandas as pd\n",
    "from src.Parser import ParserCsv\n",
    "from src.TextProccesing import TokenizerBase\n",
    "from src.TextProccesing import PreProcessor\n",
    "from src.TextProccesing import binarize\n",
    "from src.TFIDProcces import TFIDFProcessor"
   ]
  },
  {
   "cell_type": "code",
   "execution_count": 7,
   "metadata": {},
   "outputs": [],
   "source": [
    "negative_tweets = ParserCsv.parse('./data/processedNegative.csv')\n",
    "positive_tweets = ParserCsv.parse('./data/processedPositive.csv')\n",
    "neutral_tweets = ParserCsv.parse('./data/processedNeutral.csv')\n",
    "\n",
    "    \n",
    "\n",
    "neg_token = TokenizerBase(records=negative_tweets, binary_value = -1).process()\n",
    "pos_token = TokenizerBase(records=positive_tweets, binary_value = 1).process() \n",
    "neu_token = TokenizerBase(records=neutral_tweets, binary_value = 0).process()\n",
    "\n",
    "all_df = neg_token + pos_token + neu_token\n",
    "df_token = pd.DataFrame(all_df)\n",
    "\n",
    "preprocessor = PreProcessor(df_token)\n",
    "preprocessor.execute()\n"
   ]
  },
  {
   "cell_type": "code",
   "execution_count": 15,
   "metadata": {},
   "outputs": [],
   "source": [
    "\n",
    "tfidf = TFIDFProcessor(preprocessor.df_x) ##  Получаю матрицу с кф встречаемости\n",
    "res_tfdif = tfidf.compute_tfidf()"
   ]
  },
  {
   "cell_type": "code",
   "execution_count": 19,
   "metadata": {},
   "outputs": [
    {
     "name": "stdout",
     "output_type": "stream",
     "text": [
      "1\n"
     ]
    }
   ],
   "source": [
    "res_tfdif"
   ]
  },
  {
   "cell_type": "code",
   "execution_count": 17,
   "metadata": {},
   "outputs": [],
   "source": [
    "#approaches\n",
    "approaches['tokenization'] = Approach(binarize(preprocessor.df_x), preprocessor.df_x, tfidf.compute_tfidf(), preprocessor.df_y)"
   ]
  },
  {
   "cell_type": "markdown",
   "metadata": {},
   "source": []
  }
 ],
 "metadata": {
  "interpreter": {
   "hash": "8458c1d4dca891ee6f79b283872e65a54987172fe96dbe6efb976f3ba343495e"
  },
  "kernelspec": {
   "display_name": "Python 3.7.9 ('tweets': venv)",
   "language": "python",
   "name": "python3"
  },
  "language_info": {
   "codemirror_mode": {
    "name": "ipython",
    "version": 3
   },
   "file_extension": ".py",
   "mimetype": "text/x-python",
   "name": "python",
   "nbconvert_exporter": "python",
   "pygments_lexer": "ipython3",
   "version": "3.7.9"
  },
  "orig_nbformat": 4
 },
 "nbformat": 4,
 "nbformat_minor": 2
}
